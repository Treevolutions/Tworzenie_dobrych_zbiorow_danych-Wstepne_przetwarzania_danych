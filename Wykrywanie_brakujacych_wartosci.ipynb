{
 "cells": [
  {
   "cell_type": "code",
   "execution_count": null,
   "metadata": {},
   "outputs": [],
   "source": [
    "## Importowanie biblioteki oraz funkcji\n",
    "\n",
    "import pandas as pd \n",
    "from io import StringIO"
   ]
  },
  {
   "cell_type": "code",
   "execution_count": null,
   "metadata": {},
   "outputs": [],
   "source": [
    "## Tworzenie zapisu danych w postaci formatu CSV i przekształcanie ich na 'DataFrame'\n",
    "\n",
    "csv_data = \\\n",
    "'''X,Y,Z,Q\n",
    "7.0,8.0,9.0,10.0\n",
    "1.0,2.0,,4.0\n",
    "10.0,11.0,12.0\n",
    ",102.0,107.0,110.0'''\n",
    "\n",
    "df = pd.read_csv(StringIO(csv_data))\n",
    "\n",
    "## Wykorzystanie metody '%store' w celu przechowania naszej tabeli w bazie danych Pythona\n",
    "\n",
    "%store df\n",
    "\n",
    "df"
   ]
  },
  {
   "cell_type": "code",
   "execution_count": null,
   "metadata": {},
   "outputs": [],
   "source": [
    "## Wykorzystanie funkcji 'isnull()' do wskazania pustych komórek\n",
    "\n",
    "df.isnull()"
   ]
  },
  {
   "cell_type": "code",
   "execution_count": null,
   "metadata": {},
   "outputs": [],
   "source": [
    "## Wykorzystanie funkcji 'sum()' do zliczenia pustych komórek\n",
    "\n",
    "df.isnull().sum()"
   ]
  },
  {
   "cell_type": "code",
   "execution_count": null,
   "metadata": {},
   "outputs": [],
   "source": [
    "## Wykorzystanie atrybutu 'values' do przejrzenia danych obiektu 'DataFrame'\n",
    "\n",
    "df.values"
   ]
  }
 ],
 "metadata": {
  "kernelspec": {
   "display_name": "Python 3",
   "language": "python",
   "name": "python3"
  },
  "language_info": {
   "codemirror_mode": {
    "name": "ipython",
    "version": 3
   },
   "file_extension": ".py",
   "mimetype": "text/x-python",
   "name": "python",
   "nbconvert_exporter": "python",
   "pygments_lexer": "ipython3",
   "version": "3.7.3"
  }
 },
 "nbformat": 4,
 "nbformat_minor": 4
}
