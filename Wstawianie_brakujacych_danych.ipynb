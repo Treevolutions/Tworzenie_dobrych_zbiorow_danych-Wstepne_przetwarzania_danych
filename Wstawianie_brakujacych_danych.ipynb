{
 "cells": [
  {
   "cell_type": "code",
   "execution_count": null,
   "metadata": {},
   "outputs": [],
   "source": [
    "## Importowanie pakietu oraz klasy\n",
    "\n",
    "import numpy as np\n",
    "from sklearn.impute import SimpleImputer"
   ]
  },
  {
   "cell_type": "code",
   "execution_count": null,
   "metadata": {},
   "outputs": [],
   "source": [
    "## Wykorzystanie metody '%store' w celu wczytania naszej tabeli z bazy danych Pythona\n",
    "\n",
    "%store -r df\n",
    "\n",
    "df"
   ]
  },
  {
   "cell_type": "code",
   "execution_count": null,
   "metadata": {},
   "outputs": [],
   "source": [
    "## Zadeklarowanie klasy 'SimpleImputer' z wykorzystaniem paremtrów\n",
    "\n",
    "simr = SimpleImputer(strategy='mean')"
   ]
  },
  {
   "cell_type": "code",
   "execution_count": null,
   "metadata": {},
   "outputs": [],
   "source": [
    "df_new = df.copy()\n",
    "\n",
    "names = ['Kasia', 'Michał', np.nan, 'Andrzej']\n",
    "\n",
    "df_new['Names'] = names\n",
    "\n",
    "df_new"
   ]
  },
  {
   "cell_type": "code",
   "execution_count": null,
   "metadata": {},
   "outputs": [],
   "source": [
    "df_new['Names'] = df_new['Names'].fillna('Marysia')\n",
    "\n",
    "df_new"
   ]
  },
  {
   "cell_type": "code",
   "execution_count": null,
   "metadata": {},
   "outputs": [],
   "source": [
    "## Wykorzystanie metod 'fit' oraz 'transform'\n",
    "\n",
    "simr.fit(df)\n",
    "\n",
    "imp = simr.transform(df).round(2)\n",
    "\n",
    "imp"
   ]
  },
  {
   "cell_type": "code",
   "execution_count": null,
   "metadata": {},
   "outputs": [],
   "source": [
    "## Wykorzystanie metod 'fit' oraz 'transform' łącznie\n",
    "\n",
    "imp = simr.fit_transform(df).round(2)\n",
    "\n",
    "imp"
   ]
  },
  {
   "cell_type": "code",
   "execution_count": null,
   "metadata": {},
   "outputs": [],
   "source": [
    "import pandas as pd\n",
    "\n",
    "imp_df = pd.DataFrame(imp)\n",
    "\n",
    "imp_df"
   ]
  },
  {
   "cell_type": "code",
   "execution_count": null,
   "metadata": {},
   "outputs": [],
   "source": [
    "imp_df.columns = df.columns\n",
    "\n",
    "imp_df"
   ]
  },
  {
   "cell_type": "code",
   "execution_count": null,
   "metadata": {},
   "outputs": [],
   "source": [
    "# Instalacja biblioteki scikit-learn: https://scikit-learn.org/stable/install.html\n",
    "# Opis klasy SimpleImputer: https://scikit-learn.org/stable/modules/generated/sklearn.impute.SimpleImputer.html\n",
    "# Opis funkcji fillna(): https://pandas.pydata.org/pandas-docs/stable/reference/api/pandas.DataFrame.fillna.html"
   ]
  }
 ],
 "metadata": {
  "kernelspec": {
   "display_name": "Python 3",
   "language": "python",
   "name": "python3"
  },
  "language_info": {
   "codemirror_mode": {
    "name": "ipython",
    "version": 3
   },
   "file_extension": ".py",
   "mimetype": "text/x-python",
   "name": "python",
   "nbconvert_exporter": "python",
   "pygments_lexer": "ipython3",
   "version": "3.7.3"
  }
 },
 "nbformat": 4,
 "nbformat_minor": 4
}
